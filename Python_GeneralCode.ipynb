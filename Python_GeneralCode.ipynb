{
  "cells": [
    {
      "cell_type": "code",
      "execution_count": null,
      "metadata": {
        "colab": {
          "base_uri": "https://localhost:8080/"
        },
        "id": "HtmNR9TN1nqv",
        "outputId": "f2684a8e-1493-4cb3-b3f6-4222c7ca3813"
      },
      "outputs": [
        {
          "name": "stdout",
          "output_type": "stream",
          "text": [
            "10\n",
            "15\n"
          ]
        }
      ],
      "source": [
        "# bu benim ilk comment im\n",
        "# degisken - variable\n",
        "# integer(tamsayi) degisken- variable\n",
        "tamsayi_degiskeni = 10 # 10 tamsayisi icin bir degisken tanimladim, bu degiskenin ismi tamsayi_degiskeni\n",
        "tamsayi_degiskeni2 = 15\n",
        "print(tamsayi_degiskeni)\n",
        "print(tamsayi_degiskeni2)"
      ]
    },
    {
      "cell_type": "markdown",
      "metadata": {
        "id": "UgIr5zOJ4MO5"
      },
      "source": [
        "**Kesirli Sayi**\n",
        "\n"
      ]
    },
    {
      "cell_type": "code",
      "execution_count": null,
      "metadata": {
        "colab": {
          "base_uri": "https://localhost:8080/"
        },
        "id": "QPdI2Mxy4Gfe",
        "outputId": "a3ecc3b8-1a6c-4011-f9d7-fe794ac59c7f"
      },
      "outputs": [
        {
          "name": "stdout",
          "output_type": "stream",
          "text": [
            "10.5\n"
          ]
        }
      ],
      "source": [
        "# kesirli sayi - float\n",
        "kesirlisayi_degisken = 10.5\n",
        "print(kesirlisayi_degisken)"
      ]
    },
    {
      "cell_type": "markdown",
      "metadata": {
        "id": "uIZxrCOA41yE"
      },
      "source": [
        "4 işlem özelliği"
      ]
    },
    {
      "cell_type": "code",
      "execution_count": null,
      "metadata": {
        "colab": {
          "base_uri": "https://localhost:8080/"
        },
        "id": "s2u8pNyM47--",
        "outputId": "c6fe7231-967e-47cd-ed89-d21784393415"
      },
      "outputs": [
        {
          "name": "stdout",
          "output_type": "stream",
          "text": [
            "25\n",
            "150\n",
            "-5\n",
            "0.6666666666666666\n"
          ]
        }
      ],
      "source": [
        "toplam = tamsayi_degiskeni + tamsayi_degiskeni2\n",
        "carpma = tamsayi_degiskeni * tamsayi_degiskeni2\n",
        "cikarma = tamsayi_degiskeni - tamsayi_degiskeni2\n",
        "bolme = tamsayi_degiskeni / tamsayi_degiskeni2\n",
        "print(toplam)\n",
        "print(carpma)\n",
        "print(cikarma)\n",
        "print(bolme)"
      ]
    },
    {
      "cell_type": "code",
      "execution_count": null,
      "metadata": {
        "colab": {
          "base_uri": "https://localhost:8080/"
        },
        "id": "NehQ0uZt5Zxz",
        "outputId": "5ebd4289-d7d6-4066-ed3c-84e9213edf50"
      },
      "outputs": [
        {
          "name": "stdout",
          "output_type": "stream",
          "text": [
            "hello world\n"
          ]
        }
      ],
      "source": [
        "metin = \"hello world\" # string - metin\n",
        "print(metin)"
      ]
    },
    {
      "cell_type": "code",
      "execution_count": null,
      "metadata": {
        "colab": {
          "base_uri": "https://localhost:8080/"
        },
        "id": "WXSyIzeO506Q",
        "outputId": "ff439aa3-5dd0-4da9-d053-4e05ed48bcd3"
      },
      "outputs": [
        {
          "data": {
            "text/plain": [
              "str"
            ]
          },
          "execution_count": 5,
          "metadata": {},
          "output_type": "execute_result"
        }
      ],
      "source": [
        "type(metin)"
      ]
    },
    {
      "cell_type": "code",
      "execution_count": null,
      "metadata": {
        "colab": {
          "base_uri": "https://localhost:8080/",
          "height": 35
        },
        "id": "EFV98CHN59eq",
        "outputId": "b944836c-4ee4-4501-f9a2-fed2ad0cd384"
      },
      "outputs": [
        {
          "data": {
            "application/vnd.google.colaboratory.intrinsic+json": {
              "type": "string"
            },
            "text/plain": [
              "'merhaba dunya'"
            ]
          },
          "execution_count": 6,
          "metadata": {},
          "output_type": "execute_result"
        }
      ],
      "source": [
        "metin1 = \"merhaba\"\n",
        "bosluk = \" \"\n",
        "metin2 = \"dunya\"\n",
        "metin1 + bosluk + metin2"
      ]
    },
    {
      "cell_type": "code",
      "execution_count": null,
      "metadata": {
        "colab": {
          "base_uri": "https://localhost:8080/"
        },
        "id": "3Fh23nGp6T7w",
        "outputId": "04d62e6f-6834-4378-f1d0-a060c73c81dc"
      },
      "outputs": [
        {
          "name": "stdout",
          "output_type": "stream",
          "text": [
            "elma: 10 tl, armut: 20 tl\n",
            "elma: 10 tl, armut: 20 tl\n"
          ]
        }
      ],
      "source": [
        "# f string\n",
        "# elma: 10 tl\n",
        "# armut: 20 tl\n",
        "elma_degisken = 10\n",
        "armut_degisken = 20\n",
        "print(f\"elma: {elma_degisken} tl, armut: {armut_degisken} tl\")\n",
        "print(\"elma: {} tl, armut: {} tl\".format(elma_degisken, armut_degisken))\n",
        "# elma: {elma_degisken} tl, armut: {armut_degisken} tl\n",
        "# elma: 10 tl, armut: 20 tl"
      ]
    },
    {
      "cell_type": "markdown",
      "metadata": {
        "id": "VM2UJ1Sp74cn"
      },
      "source": [
        "Python Syntax"
      ]
    },
    {
      "cell_type": "code",
      "execution_count": null,
      "metadata": {
        "colab": {
          "base_uri": "https://localhost:8080/"
        },
        "id": "hVPEpZkZ8iYa",
        "outputId": "0ce16a97-f0a0-49c8-e2da-0fffc9ae45fd"
      },
      "outputs": [
        {
          "name": "stdout",
          "output_type": "stream",
          "text": [
            "6\n",
            "7\n"
          ]
        }
      ],
      "source": [
        "temel = 6\n",
        "TEMEL = 7\n",
        "print(temel)\n",
        "print(TEMEL)"
      ]
    },
    {
      "cell_type": "code",
      "execution_count": null,
      "metadata": {
        "colab": {
          "base_uri": "https://localhost:8080/",
          "height": 35
        },
        "id": "i0jwLc9G8vE3",
        "outputId": "43bd7363-e080-44f8-9400-a0c6399d77a1"
      },
      "outputs": [
        {
          "data": {
            "application/vnd.google.colaboratory.intrinsic+json": {
              "type": "string"
            },
            "text/plain": [
              "'\\n istedigimiz her seyi yazariz kimsade bize karisamaz\\n'"
            ]
          },
          "execution_count": 9,
          "metadata": {},
          "output_type": "execute_result"
        }
      ],
      "source": [
        "# COMMENT\n",
        "\"\"\"\n",
        " istedigimiz her seyi yazariz kimsade bize karisamaz\n",
        "\"\"\""
      ]
    },
    {
      "cell_type": "code",
      "execution_count": null,
      "metadata": {
        "colab": {
          "base_uri": "https://localhost:8080/"
        },
        "id": "mqOFjRDG9DjX",
        "outputId": "86794d1e-5850-4f52-a816-d7f5646cec27"
      },
      "outputs": [
        {
          "name": "stdout",
          "output_type": "stream",
          "text": [
            "5\n"
          ]
        }
      ],
      "source": [
        "print(5) # print = build-in function"
      ]
    },
    {
      "cell_type": "code",
      "execution_count": null,
      "metadata": {
        "id": "eplTJJWZ9IHq"
      },
      "outputs": [],
      "source": [
        "# print = 10"
      ]
    },
    {
      "cell_type": "code",
      "execution_count": null,
      "metadata": {
        "colab": {
          "base_uri": "https://localhost:8080/"
        },
        "id": "2YBLa5lD9N1J",
        "outputId": "a459eae9-21b4-4e7d-9a71-5f17b9583e00"
      },
      "outputs": [
        {
          "name": "stdout",
          "output_type": "stream",
          "text": [
            "5\n"
          ]
        }
      ],
      "source": [
        "print(5)"
      ]
    },
    {
      "cell_type": "markdown",
      "metadata": {
        "id": "V4Zc2MOM9zof"
      },
      "source": [
        "**Fonksiyonlar**"
      ]
    },
    {
      "cell_type": "markdown",
      "metadata": {
        "id": "Uoht1BZ--lzP"
      },
      "source": [
        "\n",
        "*   Kullanıcı Tanımlı Fonksiyonlar (User Defined Function)\n",
        "\n",
        "\n",
        "\n"
      ]
    },
    {
      "cell_type": "code",
      "execution_count": null,
      "metadata": {
        "colab": {
          "base_uri": "https://localhost:8080/"
        },
        "id": "nIyFrYXh93oz",
        "outputId": "b1dd564d-bdd0-4c42-ca38-05bdcd9998e8"
      },
      "outputs": [
        {
          "name": "stdout",
          "output_type": "stream",
          "text": [
            "28.26\n"
          ]
        }
      ],
      "source": [
        "# dairenin alanını hesaplamak pi*r^2\n",
        "pi = 3.14\n",
        "daire_yaricapi = 3\n",
        "daire_alani = pi*(daire_yaricapi**2)\n",
        "print(daire_alani)"
      ]
    },
    {
      "cell_type": "code",
      "execution_count": null,
      "metadata": {
        "id": "x4ZRWg4i_L4L"
      },
      "outputs": [],
      "source": [
        "def daireAlaniHesapla(daire_yaricapi = 5): # func ismi yazarken islevi belirtmek lazim\n",
        "  \"\"\"\n",
        "    Description: Bu fonksiyon daire alanini hesaplar.\n",
        "    input parameters: dairenin yaricapi (daire_yaricapi)\n",
        "    output: dairenin alani (daire_alani)\n",
        "  \"\"\"\n",
        "  PI = 3.14\n",
        "  daire_alani = PI*(daire_yaricapi**2)\n",
        "  print(f\"Daire Alani: {daire_alani}\")\n",
        "  return daire_alani"
      ]
    },
    {
      "cell_type": "code",
      "execution_count": null,
      "metadata": {
        "colab": {
          "base_uri": "https://localhost:8080/"
        },
        "id": "pGo8or___lQ1",
        "outputId": "3e8932cd-cadd-4668-844f-fc510d13d0c7"
      },
      "outputs": [
        {
          "name": "stdout",
          "output_type": "stream",
          "text": [
            "Daire Alani: 78.5\n"
          ]
        }
      ],
      "source": [
        "daireAlaniHesapla()"
      ]
    },
    {
      "cell_type": "code",
      "execution_count": null,
      "metadata": {
        "colab": {
          "base_uri": "https://localhost:8080/"
        },
        "id": "DMN-qFAPG71L",
        "outputId": "64316227-3de6-4696-9b01-eb26b2658a2d"
      },
      "outputs": [
        {
          "name": "stdout",
          "output_type": "stream",
          "text": [
            "Bir daire yari capi girin: 10\n",
            "girilen deger: 10 ve bu degerin type: <class 'str'>\n",
            "<class 'int'>\n",
            "Daire Alani: 314.0\n"
          ]
        }
      ],
      "source": [
        "user_input  = input(\"Bir daire yari capi girin: \")\n",
        "print(f\"girilen deger: {user_input} ve bu degerin type: {type(user_input)}\")\n",
        "user_input_int = int(user_input)\n",
        "print(f\"{type(user_input_int)}\")\n",
        "daireAlaniHesapla(user_input_int)"
      ]
    },
    {
      "cell_type": "code",
      "execution_count": null,
      "metadata": {
        "colab": {
          "base_uri": "https://localhost:8080/"
        },
        "id": "34YHBW0gIcSk",
        "outputId": "4d1b74be-cb64-45ad-c56a-387b0751e204"
      },
      "outputs": [
        {
          "name": "stdout",
          "output_type": "stream",
          "text": [
            "Daire Alani: 78.5\n",
            "Daire Alani: 28.26\n",
            "106.76\n"
          ]
        }
      ],
      "source": [
        "daire_alani_hesaplanan1 = daireAlaniHesapla(5)\n",
        "daire_alani_hesaplanan2 = daireAlaniHesapla(3)\n",
        "print(daire_alani_hesaplanan1 + daire_alani_hesaplanan2)"
      ]
    },
    {
      "cell_type": "code",
      "execution_count": null,
      "metadata": {
        "id": "CnQza9IFKPtq"
      },
      "outputs": [],
      "source": [
        "# daire cevresi hesaplama: 2*pi*r\n",
        "def daireCevresiHesapla(r):\n",
        "  PI = 3.14\n",
        "  daire_cevresi = 2*PI*r\n",
        "  return daire_cevresi"
      ]
    },
    {
      "cell_type": "code",
      "execution_count": null,
      "metadata": {
        "colab": {
          "base_uri": "https://localhost:8080/"
        },
        "id": "ow8UO3SUMptb",
        "outputId": "cee24c19-ebb1-41a4-9372-959358547757"
      },
      "outputs": [
        {
          "name": "stdout",
          "output_type": "stream",
          "text": [
            "hesapladigimiz daire ccevresi: 31.400000000000002\n"
          ]
        }
      ],
      "source": [
        "daire_cevresi_hesaplanan = daireCevresiHesapla(5)\n",
        "print(f\"hesapladigimiz daire ccevresi: {daire_cevresi_hesaplanan}\")"
      ]
    },
    {
      "cell_type": "markdown",
      "metadata": {
        "id": "IkuzCf1M_h3b"
      },
      "source": [
        "Veri tipleri: Liste"
      ]
    },
    {
      "cell_type": "code",
      "execution_count": null,
      "metadata": {
        "colab": {
          "base_uri": "https://localhost:8080/"
        },
        "id": "VNJmMihN_oEL",
        "outputId": "e1b67bde-9b75-4391-b51f-896315327f6e"
      },
      "outputs": [
        {
          "data": {
            "text/plain": [
              "['sut', 'yumurta', 'ekmek']"
            ]
          },
          "execution_count": 1,
          "metadata": {},
          "output_type": "execute_result"
        }
      ],
      "source": [
        "liste = [\"sut\", \"yumurta\", \"ekmek\"]\n",
        "liste"
      ]
    },
    {
      "cell_type": "code",
      "execution_count": null,
      "metadata": {
        "colab": {
          "base_uri": "https://localhost:8080/"
        },
        "id": "ypB0NB_6_3VG",
        "outputId": "d1b8e77c-87c3-4a24-d3e0-a96b7d6bce42"
      },
      "outputs": [
        {
          "name": "stdout",
          "output_type": "stream",
          "text": [
            "[10, 20, 30]\n"
          ]
        }
      ],
      "source": [
        "liste_fiyat = [10, 20, 30]\n",
        "print(liste_fiyat)"
      ]
    },
    {
      "cell_type": "code",
      "execution_count": null,
      "metadata": {
        "colab": {
          "base_uri": "https://localhost:8080/"
        },
        "id": "okezwK4hABTI",
        "outputId": "9e65c182-1b3b-4e63-dde9-1f2ce3e470cc"
      },
      "outputs": [
        {
          "data": {
            "text/plain": [
              "list"
            ]
          },
          "execution_count": 3,
          "metadata": {},
          "output_type": "execute_result"
        }
      ],
      "source": [
        "type(liste_fiyat)"
      ]
    },
    {
      "cell_type": "code",
      "execution_count": null,
      "metadata": {
        "colab": {
          "base_uri": "https://localhost:8080/"
        },
        "id": "JhInYZnwAJg8",
        "outputId": "157f48b9-d82c-4b9f-9b2e-a9b624f4113f"
      },
      "outputs": [
        {
          "name": "stdout",
          "output_type": "stream",
          "text": [
            "['pazartesi', 'sali', 'carsamba', 'persembe', 'cuma', 'cumartesi', 'pazar']\n"
          ]
        }
      ],
      "source": [
        "hafta_liste = [\"pazartesi\", \"sali\", \"carsamba\", \"persembe\", \"cuma\", \"cumartesi\", \"pazar\"]\n",
        "print(hafta_liste)"
      ]
    },
    {
      "cell_type": "code",
      "execution_count": null,
      "metadata": {
        "colab": {
          "base_uri": "https://localhost:8080/",
          "height": 35
        },
        "id": "5bSKyTfcAZ12",
        "outputId": "15d47c16-cad1-4e7b-a06c-8be9903dc0d9"
      },
      "outputs": [
        {
          "data": {
            "application/vnd.google.colaboratory.intrinsic+json": {
              "type": "string"
            },
            "text/plain": [
              "'pazar'"
            ]
          },
          "execution_count": 11,
          "metadata": {},
          "output_type": "execute_result"
        }
      ],
      "source": [
        "# indeksleme\n",
        "hafta_liste[len(hafta_liste)-1] # listenin 0'inci indeksi"
      ]
    },
    {
      "cell_type": "code",
      "execution_count": null,
      "metadata": {
        "colab": {
          "base_uri": "https://localhost:8080/",
          "height": 35
        },
        "id": "blV8StSCBEzw",
        "outputId": "00eb77bc-7e64-4b88-fb37-fd964e57ab7b"
      },
      "outputs": [
        {
          "data": {
            "application/vnd.google.colaboratory.intrinsic+json": {
              "type": "string"
            },
            "text/plain": [
              "'pazar'"
            ]
          },
          "execution_count": 14,
          "metadata": {},
          "output_type": "execute_result"
        }
      ],
      "source": [
        "hafta_liste[-1]"
      ]
    },
    {
      "cell_type": "code",
      "execution_count": null,
      "metadata": {
        "id": "FDjNWckTBt3y"
      },
      "outputs": [],
      "source": [
        "hafta_liste = [\"pazartesi\", \"sali\", \"carsamba\", \"persembe\", \"cuma\", \"cumartesi\", \"pazar\"]"
      ]
    },
    {
      "cell_type": "code",
      "execution_count": null,
      "metadata": {
        "colab": {
          "base_uri": "https://localhost:8080/"
        },
        "id": "qOc6jv6YB3HH",
        "outputId": "672dce09-1562-4341-d98b-df1a597322c5"
      },
      "outputs": [
        {
          "data": {
            "text/plain": [
              "['pazartesi', 'sali', 'carsamba', 'persembe']"
            ]
          },
          "execution_count": 17,
          "metadata": {},
          "output_type": "execute_result"
        }
      ],
      "source": [
        "# \"pazartesi\", \"sali\", \"carsamba\", \"persembe\"\n",
        "hafta_liste[0:4]"
      ]
    },
    {
      "cell_type": "markdown",
      "metadata": {
        "id": "ZI67_rwUCwvf"
      },
      "source": []
    },
    {
      "cell_type": "code",
      "execution_count": null,
      "metadata": {
        "colab": {
          "base_uri": "https://localhost:8080/"
        },
        "id": "5yy9pr9UCBOa",
        "outputId": "c17e1961-4fe8-4ab7-f8a2-e8aad4aefe42"
      },
      "outputs": [
        {
          "name": "stdout",
          "output_type": "stream",
          "text": [
            "['persembe', 'cuma', 'cumartesi', 'pazar']\n",
            "['persembe', 'cuma', 'cumartesi', 'pazar']\n",
            "['persembe', 'cuma', 'cumartesi', 'pazar']\n"
          ]
        }
      ],
      "source": [
        "# \"persembe\", \"cuma\", \"cumartesi\", \"pazar\"\n",
        "print(hafta_liste[3:])\n",
        "print(hafta_liste[3:7])\n",
        "print(hafta_liste[-4:])"
      ]
    },
    {
      "cell_type": "code",
      "execution_count": null,
      "metadata": {
        "colab": {
          "base_uri": "https://localhost:8080/"
        },
        "id": "Cs9NfH1yC3V9",
        "outputId": "8ad21db7-2db9-41cf-e240-83720bb5853a"
      },
      "outputs": [
        {
          "data": {
            "text/plain": [
              "[1, 3, 2, 4, 6, 5]"
            ]
          },
          "execution_count": 40,
          "metadata": {},
          "output_type": "execute_result"
        }
      ],
      "source": [
        "#\n",
        "sayi_listesi = [1,3,2,4,6,5]\n",
        "sayi_listesi"
      ]
    },
    {
      "cell_type": "code",
      "execution_count": null,
      "metadata": {
        "colab": {
          "base_uri": "https://localhost:8080/"
        },
        "id": "qoIzwWauEKZG",
        "outputId": "b5ef9c7a-b1bb-451d-fce5-ae5e5feb7123"
      },
      "outputs": [
        {
          "data": {
            "text/plain": [
              "[1, 3, 2, 4, 6, 5, 7, 6]"
            ]
          },
          "execution_count": 42,
          "metadata": {},
          "output_type": "execute_result"
        }
      ],
      "source": [
        "sayi_listesi.append(6) # listeye eleman ekleme\n",
        "sayi_listesi"
      ]
    },
    {
      "cell_type": "code",
      "execution_count": null,
      "metadata": {
        "colab": {
          "base_uri": "https://localhost:8080/"
        },
        "id": "4ykq9XiUERIq",
        "outputId": "466c7b64-4f9c-4ed3-9656-94390739b087"
      },
      "outputs": [
        {
          "data": {
            "text/plain": [
              "[1, 3, 2, 4, 5, 7]"
            ]
          },
          "execution_count": 44,
          "metadata": {},
          "output_type": "execute_result"
        }
      ],
      "source": [
        "sayi_listesi.remove(6) # listeden eleman cikarma\n",
        "sayi_listesi"
      ]
    },
    {
      "cell_type": "code",
      "execution_count": null,
      "metadata": {
        "colab": {
          "base_uri": "https://localhost:8080/"
        },
        "id": "dnEl-ZzwEmq5",
        "outputId": "6cdf1813-e02d-4612-d125-2adf72bd4d16"
      },
      "outputs": [
        {
          "data": {
            "text/plain": [
              "[7, 5, 4, 2, 3, 1]"
            ]
          },
          "execution_count": 45,
          "metadata": {},
          "output_type": "execute_result"
        }
      ],
      "source": [
        "sayi_listesi.reverse() # listeyi ters cevirme\n",
        "sayi_listesi"
      ]
    },
    {
      "cell_type": "code",
      "execution_count": null,
      "metadata": {
        "colab": {
          "base_uri": "https://localhost:8080/"
        },
        "id": "iweNoSYjE-Rd",
        "outputId": "3b886607-fcbf-4d30-bdff-a0616d6205dd"
      },
      "outputs": [
        {
          "data": {
            "text/plain": [
              "[7, 5, 4, 3, 2, 1]"
            ]
          },
          "execution_count": 48,
          "metadata": {},
          "output_type": "execute_result"
        }
      ],
      "source": [
        "sayi_listesi.sort()  # kucukten buyuge siralama\n",
        "# sayi_listesi.reverse()\n",
        "sayi_listesi"
      ]
    },
    {
      "cell_type": "code",
      "execution_count": null,
      "metadata": {
        "id": "yL5vU6kTGbN4"
      },
      "outputs": [],
      "source": [
        "liste_deneme = [1,3,2]\n",
        "liste_deneme_sorted = sorted(liste_deneme)  # kucukten buyuge siralama"
      ]
    },
    {
      "cell_type": "code",
      "execution_count": null,
      "metadata": {
        "colab": {
          "base_uri": "https://localhost:8080/"
        },
        "id": "p-dRWZuxGt9q",
        "outputId": "21151a1f-d0c9-40cb-92fc-4d509f358516"
      },
      "outputs": [
        {
          "name": "stdout",
          "output_type": "stream",
          "text": [
            "[1, 3, 2]\n",
            "[1, 2, 3]\n"
          ]
        }
      ],
      "source": [
        "print(liste_deneme)\n",
        "print(liste_deneme_sorted)"
      ]
    },
    {
      "cell_type": "markdown",
      "metadata": {
        "id": "liR51eI7Fi1P"
      },
      "source": [
        "Veri Tipleri: Tuple"
      ]
    },
    {
      "cell_type": "code",
      "execution_count": null,
      "metadata": {
        "colab": {
          "base_uri": "https://localhost:8080/"
        },
        "id": "xcLqOTitFnLs",
        "outputId": "85b36a00-0360-4565-8562-e9b8da26ea94"
      },
      "outputs": [
        {
          "name": "stdout",
          "output_type": "stream",
          "text": [
            "5\n",
            "2\n",
            "(2, 3, 3, 4, 5, 6)\n",
            "2\n"
          ]
        }
      ],
      "source": [
        "tuple_sayi = (1,2,3,3,4,5,6)\n",
        "print(tuple_sayi[-2])\n",
        "print(tuple_sayi[1])\n",
        "print(tuple_sayi[1:])\n",
        "print(tuple_sayi.count(3)) # tuple icerisinde bulunan istedigimiz elemani sayma"
      ]
    },
    {
      "cell_type": "markdown",
      "metadata": {
        "id": "G2gXhAiEHWsX"
      },
      "source": [
        "Veri tipleri: Dictionary\n",
        "\n",
        "*   anahtar-deger: key-value pair\n",
        "\n"
      ]
    },
    {
      "cell_type": "code",
      "execution_count": null,
      "metadata": {
        "colab": {
          "base_uri": "https://localhost:8080/"
        },
        "id": "e1PW69gOHZQX",
        "outputId": "d3c6c3c3-0033-4322-9dbc-c00ab9e0f676"
      },
      "outputs": [
        {
          "data": {
            "text/plain": [
              "{'anahtar': 10, 'key': 'ankara'}"
            ]
          },
          "execution_count": 64,
          "metadata": {},
          "output_type": "execute_result"
        }
      ],
      "source": [
        "dictionary = {\"anahtar\": 10,\n",
        "              \"key\": \"ankara\"}\n",
        "dictionary"
      ]
    },
    {
      "cell_type": "code",
      "execution_count": null,
      "metadata": {
        "colab": {
          "base_uri": "https://localhost:8080/"
        },
        "id": "EeU64SDdIDK4",
        "outputId": "9322400f-e8ea-46e5-ed2e-035f8e05cbd1"
      },
      "outputs": [
        {
          "data": {
            "text/plain": [
              "{'istanbul': 34, 'izmir': 35, 'Konya': 42}"
            ]
          },
          "execution_count": 67,
          "metadata": {},
          "output_type": "execute_result"
        }
      ],
      "source": [
        "sehirler_plakalar = {\"istanbul\":34, \"izmir\":35, \"Konya\":42}\n",
        "sehirler_plakalar"
      ]
    },
    {
      "cell_type": "code",
      "execution_count": null,
      "metadata": {
        "colab": {
          "base_uri": "https://localhost:8080/"
        },
        "id": "0i2iMjAZIglh",
        "outputId": "9f011ff6-9da5-4509-a9e5-c45572042b8e"
      },
      "outputs": [
        {
          "data": {
            "text/plain": [
              "dict_keys(['istanbul', 'izmir', 'Konya'])"
            ]
          },
          "execution_count": 68,
          "metadata": {},
          "output_type": "execute_result"
        }
      ],
      "source": [
        "sehirler_plakalar.keys()"
      ]
    },
    {
      "cell_type": "code",
      "execution_count": null,
      "metadata": {
        "colab": {
          "base_uri": "https://localhost:8080/"
        },
        "id": "x5Ywny16Ip9Y",
        "outputId": "dfc0a44e-71db-4f4b-8ef3-27fa9c6ed94b"
      },
      "outputs": [
        {
          "data": {
            "text/plain": [
              "dict_values([34, 35, 42])"
            ]
          },
          "execution_count": 69,
          "metadata": {},
          "output_type": "execute_result"
        }
      ],
      "source": [
        "sehirler_plakalar.values()"
      ]
    },
    {
      "cell_type": "code",
      "execution_count": null,
      "metadata": {
        "colab": {
          "base_uri": "https://localhost:8080/"
        },
        "id": "h7i8Do5jI1hC",
        "outputId": "6877077f-692d-455d-fcbf-7338bac541d7"
      },
      "outputs": [
        {
          "data": {
            "text/plain": [
              "35"
            ]
          },
          "execution_count": 70,
          "metadata": {},
          "output_type": "execute_result"
        }
      ],
      "source": [
        "sehirler_plakalar[\"izmir\"]"
      ]
    },
    {
      "cell_type": "code",
      "execution_count": null,
      "metadata": {
        "id": "pAPw7KepI7pX"
      },
      "outputs": [],
      "source": [
        "\"\"\"\n",
        "parameters = {\"weights\":[],\n",
        "              \"bias\":[],\n",
        "              \"learning_rate\": 0,\n",
        "              \"model_name\": \"model1\"}\n",
        "list_parameters = []\n",
        "list_parameters.append(parameters)\n",
        "\"\"\""
      ]
    },
    {
      "cell_type": "markdown",
      "metadata": {
        "id": "YnvgdO7dNV95"
      },
      "source": [
        "Veri tipleri dönüşümleri"
      ]
    },
    {
      "cell_type": "code",
      "execution_count": null,
      "metadata": {
        "id": "kkO8TDlkNZu_"
      },
      "outputs": [],
      "source": [
        "metin = \"16\"\n",
        "kesirlisayi = 10.0\n",
        "tamsayi = 10\n",
        "\n",
        "# int tamsayi = 10\n",
        "# float kesirlisayi = 10"
      ]
    },
    {
      "cell_type": "code",
      "execution_count": null,
      "metadata": {
        "colab": {
          "base_uri": "https://localhost:8080/"
        },
        "id": "4GVaTHOYNil8",
        "outputId": "d3ceef62-608d-4e61-cada-b6df9e60703d"
      },
      "outputs": [
        {
          "name": "stdout",
          "output_type": "stream",
          "text": [
            "16\n",
            "<class 'int'>\n"
          ]
        }
      ],
      "source": [
        "# str -> int\n",
        "metin_int = int(metin)\n",
        "print(metin_int)\n",
        "print(type(metin_int))"
      ]
    },
    {
      "cell_type": "code",
      "execution_count": null,
      "metadata": {
        "colab": {
          "base_uri": "https://localhost:8080/"
        },
        "id": "z1DVl-OUNw6s",
        "outputId": "506c689a-030c-43ca-be54-a0ce0676e7bc"
      },
      "outputs": [
        {
          "name": "stdout",
          "output_type": "stream",
          "text": [
            "10\n",
            "<class 'int'>\n"
          ]
        }
      ],
      "source": [
        "# float -> int\n",
        "kesirlisayi_int = int(kesirlisayi)\n",
        "print(kesirlisayi_int)\n",
        "print(type(kesirlisayi_int))"
      ]
    },
    {
      "cell_type": "code",
      "execution_count": null,
      "metadata": {
        "colab": {
          "base_uri": "https://localhost:8080/",
          "height": 35
        },
        "id": "iO1jhpM8N-TP",
        "outputId": "7b41b3de-0609-4c62-a194-dceb9cdd0aaa"
      },
      "outputs": [
        {
          "data": {
            "application/vnd.google.colaboratory.intrinsic+json": {
              "type": "string"
            },
            "text/plain": [
              "'10.5'"
            ]
          },
          "execution_count": 78,
          "metadata": {},
          "output_type": "execute_result"
        }
      ],
      "source": [
        "# float -> str\n",
        "kesirlisayi_str = str(kesirlisayi)\n",
        "kesirlisayi_str"
      ]
    },
    {
      "cell_type": "code",
      "execution_count": null,
      "metadata": {
        "colab": {
          "base_uri": "https://localhost:8080/",
          "height": 35
        },
        "id": "sHSQdAThOVnO",
        "outputId": "f0b90cfb-976a-4487-ce16-98631f77d24a"
      },
      "outputs": [
        {
          "data": {
            "application/vnd.google.colaboratory.intrinsic+json": {
              "type": "string"
            },
            "text/plain": [
              "'10'"
            ]
          },
          "execution_count": 79,
          "metadata": {},
          "output_type": "execute_result"
        }
      ],
      "source": [
        "# int -> str\n",
        "tamsayi_str = str(tamsayi)\n",
        "tamsayi_str"
      ]
    },
    {
      "cell_type": "code",
      "execution_count": null,
      "metadata": {
        "colab": {
          "base_uri": "https://localhost:8080/"
        },
        "id": "ME3t3AfFOdGC",
        "outputId": "3f6a3e37-32fe-407f-cfac-63af5462a1dc"
      },
      "outputs": [
        {
          "data": {
            "text/plain": [
              "10.0"
            ]
          },
          "execution_count": 80,
          "metadata": {},
          "output_type": "execute_result"
        }
      ],
      "source": [
        "# int -> float\n",
        "tamsayi_float = float(tamsayi)\n",
        "tamsayi_float"
      ]
    },
    {
      "cell_type": "code",
      "execution_count": null,
      "metadata": {
        "id": "liOgCxUmOlbP"
      },
      "outputs": [],
      "source": []
    },
    {
      "cell_type": "markdown",
      "metadata": {
        "id": "flnlpSSXP7wP"
      },
      "source": [
        "if-else"
      ]
    },
    {
      "cell_type": "code",
      "execution_count": null,
      "metadata": {
        "colab": {
          "base_uri": "https://localhost:8080/"
        },
        "id": "TCFzQQb2QDnR",
        "outputId": "94e5130a-a783-447b-db0b-ec1f1dd35fc1"
      },
      "outputs": [
        {
          "name": "stdout",
          "output_type": "stream",
          "text": [
            "sayilar esit\n"
          ]
        }
      ],
      "source": [
        "# eger sayi1 kucuktur sayi2 ise print(sayi1 kucuktur sayi2)\n",
        "sayi1 = 12\n",
        "sayi2 = 22\n",
        "\n",
        "if sayi1 < sayi2: # eger True (dogru) ise if icerisine gir\n",
        "  print(f\"sayi1: {sayi1} kucuktur sayi2: {sayi2}\")\n",
        "elif sayi2 < sayi1:\n",
        "  print(f\"sayi2:{sayi2} kucuktur sayi1:{sayi1}\")\n",
        "else:\n",
        "  print(\"sayilar esit\")"
      ]
    },
    {
      "cell_type": "code",
      "execution_count": null,
      "metadata": {
        "colab": {
          "base_uri": "https://localhost:8080/"
        },
        "id": "Mg19P7XwSbZR",
        "outputId": "eaaf0d0a-9842-4f53-f887-7191dcb773ec"
      },
      "outputs": [
        {
          "name": "stdout",
          "output_type": "stream",
          "text": [
            "5 degeri listenin icinde\n"
          ]
        }
      ],
      "source": [
        "# problem: deger listenin icinde mi degil mi?\n",
        "liste = [1, 2, 3, 4, 5]\n",
        "deger = 5\n",
        "\n",
        "if deger in liste:\n",
        "  print(f\"{deger} degeri listenin icinde\")\n",
        "else:\n",
        "  print(f\"{deger} degeri listenin icinde degil\")"
      ]
    },
    {
      "cell_type": "code",
      "execution_count": null,
      "metadata": {
        "colab": {
          "base_uri": "https://localhost:8080/"
        },
        "id": "g_WjqwDiQh_0",
        "outputId": "d3116ecb-ca30-498c-a1a5-d4e9bb1e8040"
      },
      "outputs": [
        {
          "name": "stdout",
          "output_type": "stream",
          "text": [
            "dict_keys(['Turkiye', 'Ingiltere', 'Almanya'])\n"
          ]
        }
      ],
      "source": [
        "# problem: ulke isimleri dictionary icerisinde var mi yok mu anlamaya calismak\n",
        "dictionary = {\"Turkiye\":\"Ankara\", \"Ingiltere\":\"Londra\", \"Almanya\":\"Berlin\"}\n",
        "keys = dictionary.keys()\n",
        "print(keys)\n"
      ]
    },
    {
      "cell_type": "code",
      "execution_count": null,
      "metadata": {
        "colab": {
          "base_uri": "https://localhost:8080/"
        },
        "id": "eJPdWasRTb9U",
        "outputId": "28f472e1-3622-4bcf-f341-8977025e1797"
      },
      "outputs": [
        {
          "name": "stdout",
          "output_type": "stream",
          "text": [
            "Ingiltere degeri sozlukte var\n"
          ]
        }
      ],
      "source": [
        "deger = \"Ingiltere\"\n",
        "if deger in keys:\n",
        "  print(f\"{deger} degeri sozlukte var\")\n",
        "else:\n",
        "  print(f\"{deger} degeri sozlukte yok\")"
      ]
    },
    {
      "cell_type": "code",
      "execution_count": null,
      "metadata": {
        "colab": {
          "base_uri": "https://localhost:8080/"
        },
        "id": "fRYfJHuSTpmO",
        "outputId": "141a8c07-3184-4fb5-dbce-b58e82fe56e5"
      },
      "outputs": [
        {
          "name": "stdout",
          "output_type": "stream",
          "text": [
            "ptase gunu listenin ikinci inkdeksinde\n"
          ]
        }
      ],
      "source": [
        "# liste = haftanin gunleri\n",
        "# eger ptesi gunu listenin icerisinde 2. indexde ise print(ptesi gunu listenin ikinci indeksinde)\n",
        "liste=[\"pazartesi\",\"sali\",\"carsamba\",\"persembe\",\"cuma\",\"cumartesi\",\"pazar\"]\n",
        "\n",
        "if \"pazartesi\"==liste[2]:\n",
        "  print(\"ptase gunu listenin ikinci inkdeksinde\")\n",
        "else:\n",
        "  print(\" değil\")"
      ]
    },
    {
      "cell_type": "markdown",
      "metadata": {
        "id": "3xWBNl6FU5uO"
      },
      "source": [
        "**for loop**"
      ]
    },
    {
      "cell_type": "code",
      "execution_count": null,
      "metadata": {
        "colab": {
          "base_uri": "https://localhost:8080/"
        },
        "id": "vl6_cQ8GU7mK",
        "outputId": "77ea7265-8070-4f72-cd58-37f2849aa030"
      },
      "outputs": [
        {
          "name": "stdout",
          "output_type": "stream",
          "text": [
            "1\n",
            "2\n",
            "3\n",
            "4\n",
            "5\n",
            "6\n",
            "7\n",
            "8\n",
            "9\n",
            "10\n"
          ]
        }
      ],
      "source": [
        "for i in range(1,11): # [1,2,3,4,5,6,7,8,9,10]\n",
        "  print(i)"
      ]
    },
    {
      "cell_type": "code",
      "execution_count": null,
      "metadata": {
        "colab": {
          "base_uri": "https://localhost:8080/"
        },
        "id": "P2HlrwOsWBVW",
        "outputId": "623284cc-b412-494a-ac0b-1c29138530dc"
      },
      "outputs": [
        {
          "name": "stdout",
          "output_type": "stream",
          "text": [
            "1\n",
            "2\n",
            "3\n",
            "4\n"
          ]
        }
      ],
      "source": [
        "for i in [1,2,3,4]:\n",
        "  print(i)"
      ]
    },
    {
      "cell_type": "code",
      "execution_count": null,
      "metadata": {
        "colab": {
          "base_uri": "https://localhost:8080/"
        },
        "id": "hMNYQBR8VcKC",
        "outputId": "6038ed4b-6218-42a2-b46c-ceccac107ab9"
      },
      "outputs": [
        {
          "name": "stdout",
          "output_type": "stream",
          "text": [
            "2\n",
            "4\n",
            "6\n",
            "8\n"
          ]
        }
      ],
      "source": [
        "for i in [1,2,3,4]:\n",
        "  print(i*2)"
      ]
    },
    {
      "cell_type": "code",
      "execution_count": null,
      "metadata": {
        "colab": {
          "base_uri": "https://localhost:8080/"
        },
        "id": "i9-BFoETWJ23",
        "outputId": "141be7cc-ecb1-4c92-b0b2-ac8fefd1f45c"
      },
      "outputs": [
        {
          "name": "stdout",
          "output_type": "stream",
          "text": [
            "pazartesi\n",
            "sali\n",
            "carsamba\n",
            "persembe\n",
            "cuma\n",
            "cumartesi\n",
            "pazar\n"
          ]
        }
      ],
      "source": [
        "liste1 = [\"pazartesi\",\"sali\",\"carsamba\",\"persembe\",\"cuma\",\"cumartesi\",\"pazar\"]\n",
        "for i in liste1:\n",
        "  print(i)"
      ]
    },
    {
      "cell_type": "code",
      "execution_count": null,
      "metadata": {
        "colab": {
          "base_uri": "https://localhost:8080/"
        },
        "id": "Ufg2O6DKWRGr",
        "outputId": "c5622c14-9cf2-4c04-f8c5-e8118d6ebae6"
      },
      "outputs": [
        {
          "name": "stdout",
          "output_type": "stream",
          "text": [
            "p\n",
            "a\n",
            "z\n",
            "a\n",
            "r\n",
            "t\n",
            "e\n",
            "s\n",
            "i\n",
            " \n",
            "s\n",
            "a\n",
            "l\n",
            "i\n"
          ]
        }
      ],
      "source": [
        "for i in \"pazartesi sali\": # string = karakter dizisi\n",
        "  print(i)"
      ]
    },
    {
      "cell_type": "code",
      "execution_count": null,
      "metadata": {
        "colab": {
          "base_uri": "https://localhost:8080/"
        },
        "id": "U3KfZk8vWZ_f",
        "outputId": "ac95173d-8225-4298-9a9f-491b8c3d870a"
      },
      "outputs": [
        {
          "name": "stdout",
          "output_type": "stream",
          "text": [
            "45\n",
            "45\n"
          ]
        }
      ],
      "source": [
        "liste = [1,2,3,4,5,6,7,8,9]\n",
        "\n",
        "toplam = 0\n",
        "for i in liste:\n",
        "  toplam = toplam + i\n",
        "print(toplam)\n",
        "print(sum(liste))"
      ]
    },
    {
      "cell_type": "code",
      "execution_count": null,
      "metadata": {
        "colab": {
          "base_uri": "https://localhost:8080/"
        },
        "id": "jiwvkyeaYztG",
        "outputId": "abd08e69-d598-422d-e811-72e4402f3c4a"
      },
      "outputs": [
        {
          "data": {
            "text/plain": [
              "['Bugün', 'Python', 'Dersimiz', 'Var.']"
            ]
          },
          "execution_count": 122,
          "metadata": {},
          "output_type": "execute_result"
        }
      ],
      "source": [
        "\"\"\"\n",
        "problem: NLP, elimizde str olarak cumle var. mesela: \"Bugün Python Dersimiz Var.\"\n",
        "[\"bugün\", \"python\", \"dersimiz\", \"var.\"]\n",
        "\"\"\"\n",
        "cumle = \"Bugün Python Dersimiz Var.\"\n",
        "liste_cumle = cumle.split()\n",
        "liste_cumle\n"
      ]
    },
    {
      "cell_type": "code",
      "execution_count": null,
      "metadata": {
        "colab": {
          "base_uri": "https://localhost:8080/"
        },
        "id": "xDBHcGNlaiuK",
        "outputId": "a1016085-d9ed-49ef-bd8f-a92e58411806"
      },
      "outputs": [
        {
          "name": "stdout",
          "output_type": "stream",
          "text": [
            "['bugün', 'python', 'dersimiz', 'var.']\n"
          ]
        }
      ],
      "source": [
        "liste = []\n",
        "for i in liste_cumle:\n",
        "  kelime_kucuk_harf = i.lower()\n",
        "  liste.append(kelime_kucuk_harf)\n",
        "  # print(kelime_kucuk_harf)\n",
        "print(liste)"
      ]
    },
    {
      "cell_type": "code",
      "execution_count": null,
      "metadata": {
        "id": "WR8gBgrxb8LQ"
      },
      "outputs": [],
      "source": [
        "\"\"\"\n",
        "problem: liste = [1,2,3,4,5,6]\n",
        "fonksiyon\n",
        "  girdi: liste\n",
        "  ciktisi: listenini icersinde bulunan cift sayilarin toplami olacak\n",
        "\"\"\""
      ]
    },
    {
      "cell_type": "code",
      "execution_count": null,
      "metadata": {
        "colab": {
          "base_uri": "https://localhost:8080/"
        },
        "id": "bEjCP9l2eK0F",
        "outputId": "f71fd73c-8095-49e7-b6d3-3a6cdb4b9e88"
      },
      "outputs": [
        {
          "name": "stdout",
          "output_type": "stream",
          "text": [
            "12\n"
          ]
        }
      ],
      "source": [
        "def fonksiyon(liste):\n",
        "  toplam = 0\n",
        "  for i in liste:\n",
        "    if i%2 == 0:  #cift sayi\n",
        "      toplam += i # toplam = toplam + i\n",
        "  return toplam\n",
        "\n",
        "liste=[1,2,3,4,5,6]\n",
        "print(fonksiyon(liste))"
      ]
    },
    {
      "cell_type": "code",
      "execution_count": null,
      "metadata": {
        "id": "0MIuKO_ifyfU"
      },
      "outputs": [],
      "source": []
    },
    {
      "cell_type": "markdown",
      "metadata": {
        "id": "S588fbZan9_e"
      },
      "source": [
        "while loop"
      ]
    },
    {
      "cell_type": "code",
      "execution_count": null,
      "metadata": {
        "colab": {
          "base_uri": "https://localhost:8080/"
        },
        "id": "a_fzms6MoAPJ",
        "outputId": "b57d1433-6d22-428e-d7b9-37b78800b3c9"
      },
      "outputs": [
        {
          "name": "stdout",
          "output_type": "stream",
          "text": [
            "0\n",
            "1\n",
            "2\n",
            "3\n"
          ]
        }
      ],
      "source": [
        "i = 0\n",
        "while(i < 4):\n",
        "  print(i)\n",
        "  i = i + 1"
      ]
    },
    {
      "cell_type": "code",
      "execution_count": null,
      "metadata": {
        "colab": {
          "base_uri": "https://localhost:8080/"
        },
        "id": "sMXDbV__ogMF",
        "outputId": "42d301f2-8699-4285-8543-3744bcf18500"
      },
      "outputs": [
        {
          "name": "stdout",
          "output_type": "stream",
          "text": [
            "21\n"
          ]
        }
      ],
      "source": [
        "# while ile toplama\n",
        "liste = [1,2,3,4,5,6]\n",
        "i = 0\n",
        "toplam = 0\n",
        "while(i < len(liste)): # len(liste) = 6\n",
        "  toplam = toplam + liste[i]\n",
        "  i = i + 1\n",
        "print(toplam)"
      ]
    }
  ],
  "metadata": {
    "colab": {
      "provenance": []
    },
    "kernelspec": {
      "display_name": "Python 3",
      "name": "python3"
    },
    "language_info": {
      "name": "python"
    }
  },
  "nbformat": 4,
  "nbformat_minor": 0
}
