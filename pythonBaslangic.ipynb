{
  "nbformat": 4,
  "nbformat_minor": 0,
  "metadata": {
    "colab": {
      "provenance": []
    },
    "kernelspec": {
      "name": "python3",
      "display_name": "Python 3"
    },
    "language_info": {
      "name": "python"
    }
  },
  "cells": [
    {
      "cell_type": "markdown",
      "source": [
        "**Numpy**"
      ],
      "metadata": {
        "id": "wCRWj7Wapedy"
      }
    },
    {
      "cell_type": "code",
      "source": [
        "import numpy as np"
      ],
      "metadata": {
        "id": "XBKyiYzbpBb8"
      },
      "execution_count": null,
      "outputs": []
    },
    {
      "cell_type": "code",
      "source": [
        "# numpy array olustur\n",
        "# liste = [1,2,3,4,5,6,7,8,9,10,11,12,13,14,15]\n",
        "dizi = np.array([1,2,3,4,5,6,7,8,9,10,11,12,13,14,15])\n",
        "dizi"
      ],
      "metadata": {
        "colab": {
          "base_uri": "https://localhost:8080/"
        },
        "id": "vUlumpcHqAX8",
        "outputId": "0743006a-112e-40cb-d5ef-7ccb0a44e5b1"
      },
      "execution_count": null,
      "outputs": [
        {
          "output_type": "execute_result",
          "data": {
            "text/plain": [
              "array([ 1,  2,  3,  4,  5,  6,  7,  8,  9, 10, 11, 12, 13, 14, 15])"
            ]
          },
          "metadata": {},
          "execution_count": 152
        }
      ]
    },
    {
      "cell_type": "code",
      "source": [
        "# array boyutu\n",
        "dizi.shape # (15,) -> 15x1 lik bir vektor"
      ],
      "metadata": {
        "colab": {
          "base_uri": "https://localhost:8080/"
        },
        "id": "LJyj2D1-qXRC",
        "outputId": "17e124c9-1ba0-4a9b-cab2-77b32435c5ad"
      },
      "execution_count": null,
      "outputs": [
        {
          "output_type": "execute_result",
          "data": {
            "text/plain": [
              "(15,)"
            ]
          },
          "metadata": {},
          "execution_count": 153
        }
      ]
    },
    {
      "cell_type": "code",
      "source": [
        "# 15x1 lik bir arrayi 3x5 lik bir matrise cevirelim\n",
        "dizi2 = dizi.reshape(3,5)\n",
        "dizi2"
      ],
      "metadata": {
        "colab": {
          "base_uri": "https://localhost:8080/"
        },
        "id": "kthOU4yLquHN",
        "outputId": "ffcf5f74-1cd7-4cee-b1d0-383cf76a89fa"
      },
      "execution_count": null,
      "outputs": [
        {
          "output_type": "execute_result",
          "data": {
            "text/plain": [
              "array([[ 1,  2,  3,  4,  5],\n",
              "       [ 6,  7,  8,  9, 10],\n",
              "       [11, 12, 13, 14, 15]])"
            ]
          },
          "metadata": {},
          "execution_count": 156
        }
      ]
    },
    {
      "cell_type": "code",
      "source": [
        "print(\"shape: \", dizi2.shape)\n",
        "print(\"dimension: \", dizi2.ndim)\n",
        "print(\"size: \",dizi2.size)\n",
        "print(\"type: \", type(dizi2))"
      ],
      "metadata": {
        "colab": {
          "base_uri": "https://localhost:8080/"
        },
        "id": "trwpjeC2rKMi",
        "outputId": "1f2bba6d-b21f-4218-9101-84fb2831b177"
      },
      "execution_count": null,
      "outputs": [
        {
          "output_type": "stream",
          "name": "stdout",
          "text": [
            "shape:  (3, 5)\n",
            "dimension:  2\n",
            "size:  15\n",
            "type:  <class 'numpy.ndarray'>\n"
          ]
        }
      ]
    },
    {
      "cell_type": "code",
      "source": [
        "dizi2D = np.array([[1,2,3,4],[5,6,7,8],[9,8,7,5]])\n",
        "dizi2D"
      ],
      "metadata": {
        "colab": {
          "base_uri": "https://localhost:8080/"
        },
        "id": "8FxyWXUhraYd",
        "outputId": "8eb51334-34d8-43ec-f5ca-834f50cdf90d"
      },
      "execution_count": null,
      "outputs": [
        {
          "output_type": "execute_result",
          "data": {
            "text/plain": [
              "array([[1, 2, 3, 4],\n",
              "       [5, 6, 7, 8],\n",
              "       [9, 8, 7, 5]])"
            ]
          },
          "metadata": {},
          "execution_count": 162
        }
      ]
    },
    {
      "cell_type": "code",
      "source": [
        "# sifirlardan olusan bir array olusturalim\n",
        "sifir_dizi = np.zeros((3,4))\n",
        "sifir_dizi"
      ],
      "metadata": {
        "colab": {
          "base_uri": "https://localhost:8080/"
        },
        "id": "OfhgVvqqsGTk",
        "outputId": "9608ec13-c344-41b8-923e-38f37bf4866d"
      },
      "execution_count": null,
      "outputs": [
        {
          "output_type": "execute_result",
          "data": {
            "text/plain": [
              "array([[0., 0., 0., 0.],\n",
              "       [0., 0., 0., 0.],\n",
              "       [0., 0., 0., 0.]])"
            ]
          },
          "metadata": {},
          "execution_count": 163
        }
      ]
    },
    {
      "cell_type": "code",
      "source": [
        "# birlerden olsan array\n",
        "bir_dizi = np.ones((3,4))\n",
        "bir_dizi"
      ],
      "metadata": {
        "colab": {
          "base_uri": "https://localhost:8080/"
        },
        "id": "Vjl7YIO7sZQ9",
        "outputId": "6618d71f-e3b0-488e-a4c9-800311c8a7e7"
      },
      "execution_count": null,
      "outputs": [
        {
          "output_type": "execute_result",
          "data": {
            "text/plain": [
              "array([[1., 1., 1., 1.],\n",
              "       [1., 1., 1., 1.],\n",
              "       [1., 1., 1., 1.]])"
            ]
          },
          "metadata": {},
          "execution_count": 164
        }
      ]
    },
    {
      "cell_type": "code",
      "source": [
        "# bos bir array olustur\n",
        "bos_dizi = np.empty((2,4))\n",
        "bos_dizi"
      ],
      "metadata": {
        "colab": {
          "base_uri": "https://localhost:8080/"
        },
        "id": "_nTHYf0ssnaQ",
        "outputId": "6c60ab7b-d7f8-4d9b-9586-139c3663c1c7"
      },
      "execution_count": null,
      "outputs": [
        {
          "output_type": "execute_result",
          "data": {
            "text/plain": [
              "array([[5.04540792e-310, 0.00000000e+000, 0.00000000e+000,\n",
              "        0.00000000e+000],\n",
              "       [0.00000000e+000, 0.00000000e+000, 0.00000000e+000,\n",
              "        0.00000000e+000]])"
            ]
          },
          "metadata": {},
          "execution_count": 165
        }
      ]
    },
    {
      "cell_type": "code",
      "source": [
        "# arange(x,y,basamak) x den baslar y ye (y dahil degil) kadar gider basamak buyuklugunder artarak ilerler\n",
        "# 10, 50, basamak = 5\n",
        "dizi_aralik = np.arange(10,50,8)\n",
        "dizi_aralik"
      ],
      "metadata": {
        "colab": {
          "base_uri": "https://localhost:8080/"
        },
        "id": "PlCv3ShSsxYY",
        "outputId": "5d3845c5-fab9-4e61-d4c4-9ad9afbee822"
      },
      "execution_count": null,
      "outputs": [
        {
          "output_type": "execute_result",
          "data": {
            "text/plain": [
              "array([10, 18, 26, 34, 42])"
            ]
          },
          "metadata": {},
          "execution_count": 167
        }
      ]
    },
    {
      "cell_type": "code",
      "source": [
        "# linspace  (x,y,basamak) x ve y(dahil) araliginde basamak kadar sayiya boler\n",
        "dizi_bosluk = np.linspace(10,50,103)\n",
        "len(dizi_bosluk)"
      ],
      "metadata": {
        "colab": {
          "base_uri": "https://localhost:8080/"
        },
        "id": "f9maCpIdtVPj",
        "outputId": "f677f4ec-6b4c-4481-efe1-f8c777adb290"
      },
      "execution_count": null,
      "outputs": [
        {
          "output_type": "execute_result",
          "data": {
            "text/plain": [
              "103"
            ]
          },
          "metadata": {},
          "execution_count": 173
        }
      ]
    },
    {
      "cell_type": "markdown",
      "source": [
        "**Numpy Temel Operasyonları**"
      ],
      "metadata": {
        "id": "cryTo0ck0Jwd"
      }
    },
    {
      "cell_type": "code",
      "source": [
        "import numpy as np"
      ],
      "metadata": {
        "id": "SUM1Uz5U0SHK"
      },
      "execution_count": null,
      "outputs": []
    },
    {
      "cell_type": "code",
      "source": [
        "a = np.array([1,2,3])\n",
        "b = np.array([4,5,6])"
      ],
      "metadata": {
        "id": "9WHSW7gs0dRB"
      },
      "execution_count": null,
      "outputs": []
    },
    {
      "cell_type": "code",
      "source": [
        "print(\"Toplama: \", a+b)\n",
        "print(\"Cikarma: \", a-b)\n",
        "print(\"Dizinin kendisi ile carpimi: \", a**2)"
      ],
      "metadata": {
        "colab": {
          "base_uri": "https://localhost:8080/"
        },
        "id": "rs_GuMme0ifd",
        "outputId": "4064bae8-0e3b-45fe-bfaf-2b28e6d72e49"
      },
      "execution_count": null,
      "outputs": [
        {
          "output_type": "stream",
          "name": "stdout",
          "text": [
            "Toplama:  [5 7 9]\n",
            "Cikarma:  [-3 -3 -3]\n",
            "Dizinin kendisi ile carpimi:  [1 4 9]\n"
          ]
        }
      ]
    },
    {
      "cell_type": "code",
      "source": [
        "# filtreleme\n",
        "a = np.array([1,2,3])\n",
        "filtre = a < 2 # a array'nin icerisinde bulunan 2 den kucuk degerleri goster\n",
        "filtre"
      ],
      "metadata": {
        "colab": {
          "base_uri": "https://localhost:8080/"
        },
        "id": "Htbiq85h0pu7",
        "outputId": "3772fc22-fdbf-42fb-db1c-9b6950eabe33"
      },
      "execution_count": null,
      "outputs": [
        {
          "output_type": "execute_result",
          "data": {
            "text/plain": [
              "array([ True, False, False])"
            ]
          },
          "metadata": {},
          "execution_count": 180
        }
      ]
    },
    {
      "cell_type": "code",
      "source": [
        "# matris carpimi\n",
        "a = np.array([1,2,3])\n",
        "b = np.array([4,5,6])\n",
        "a.dot(b)"
      ],
      "metadata": {
        "colab": {
          "base_uri": "https://localhost:8080/"
        },
        "id": "X_lyjkjl1LXm",
        "outputId": "8332e961-5ab1-4bc8-e843-ffffb59a4a69"
      },
      "execution_count": null,
      "outputs": [
        {
          "output_type": "execute_result",
          "data": {
            "text/plain": [
              "32"
            ]
          },
          "metadata": {},
          "execution_count": 182
        }
      ]
    },
    {
      "cell_type": "code",
      "source": [
        "a = np.array([[1,2,3],[4,5,6]]) # 2x3\n",
        "b = np.array([[4,5,6],[1,2,3]]) # 2x3 ->T-> 3x2\n",
        "a.dot(b.T)"
      ],
      "metadata": {
        "colab": {
          "base_uri": "https://localhost:8080/"
        },
        "id": "bM8EWDrk1epI",
        "outputId": "b39c349e-058e-448e-cfd6-9134b61661c7"
      },
      "execution_count": null,
      "outputs": [
        {
          "output_type": "execute_result",
          "data": {
            "text/plain": [
              "array([[32, 14],\n",
              "       [77, 32]])"
            ]
          },
          "metadata": {},
          "execution_count": 185
        }
      ]
    },
    {
      "cell_type": "code",
      "source": [
        "a = np.array([[1,2,3],\n",
        "              [4,5,6]])\n",
        "print(sum(a))\n",
        "print(np.sum(a))"
      ],
      "metadata": {
        "colab": {
          "base_uri": "https://localhost:8080/"
        },
        "id": "IZyXxzZr1sC1",
        "outputId": "65d0a826-6279-4d53-ac70-b06238c2a34f"
      },
      "execution_count": null,
      "outputs": [
        {
          "output_type": "stream",
          "name": "stdout",
          "text": [
            "[5 7 9]\n",
            "21\n"
          ]
        }
      ]
    },
    {
      "cell_type": "code",
      "source": [
        "print(a.max())\n",
        "print(np.max(a))"
      ],
      "metadata": {
        "colab": {
          "base_uri": "https://localhost:8080/"
        },
        "id": "bOIM-0BR2MxF",
        "outputId": "0e237c1e-e016-457d-8f61-46727a9052d1"
      },
      "execution_count": null,
      "outputs": [
        {
          "output_type": "stream",
          "name": "stdout",
          "text": [
            "6\n",
            "6\n"
          ]
        }
      ]
    },
    {
      "cell_type": "code",
      "source": [
        "print(a.min())\n",
        "print(np.min(a))"
      ],
      "metadata": {
        "colab": {
          "base_uri": "https://localhost:8080/"
        },
        "id": "biPq8Wmv2nEm",
        "outputId": "e915963a-7fb9-41f0-9bed-8cb037df5bbc"
      },
      "execution_count": null,
      "outputs": [
        {
          "output_type": "stream",
          "name": "stdout",
          "text": [
            "1\n",
            "1\n"
          ]
        }
      ]
    },
    {
      "cell_type": "code",
      "source": [
        "# satir satir toplama\n",
        "a.sum(axis = 1)"
      ],
      "metadata": {
        "colab": {
          "base_uri": "https://localhost:8080/"
        },
        "id": "DlJgwDWt2v5X",
        "outputId": "a36bb33f-99b4-4663-99d6-e5a43d0da9da"
      },
      "execution_count": null,
      "outputs": [
        {
          "output_type": "execute_result",
          "data": {
            "text/plain": [
              "array([ 6, 15])"
            ]
          },
          "metadata": {},
          "execution_count": 194
        }
      ]
    },
    {
      "cell_type": "code",
      "source": [
        "# sutun sutun toplama\n",
        "a.sum(axis = 0)"
      ],
      "metadata": {
        "colab": {
          "base_uri": "https://localhost:8080/"
        },
        "id": "Ltd21-Pg25fE",
        "outputId": "196696ee-634d-440e-c87d-41121ff730ba"
      },
      "execution_count": null,
      "outputs": [
        {
          "output_type": "execute_result",
          "data": {
            "text/plain": [
              "array([5, 7, 9])"
            ]
          },
          "metadata": {},
          "execution_count": 195
        }
      ]
    },
    {
      "cell_type": "code",
      "source": [
        "# kare koku\n",
        "np.sqrt(a)"
      ],
      "metadata": {
        "colab": {
          "base_uri": "https://localhost:8080/"
        },
        "id": "g7DZaZHt29bF",
        "outputId": "41c29e6e-4b93-43a3-ed23-eab8ea288d3f"
      },
      "execution_count": null,
      "outputs": [
        {
          "output_type": "execute_result",
          "data": {
            "text/plain": [
              "array([[1.        , 1.41421356, 1.73205081],\n",
              "       [2.        , 2.23606798, 2.44948974]])"
            ]
          },
          "metadata": {},
          "execution_count": 196
        }
      ]
    },
    {
      "cell_type": "code",
      "source": [
        "# karesi\n",
        "print(np.square(a))\n",
        "print(a**2)"
      ],
      "metadata": {
        "colab": {
          "base_uri": "https://localhost:8080/"
        },
        "id": "F5tjEV5r3Jwe",
        "outputId": "8d86a83e-2c04-45a7-e747-a7c6b7cb82c3"
      },
      "execution_count": null,
      "outputs": [
        {
          "output_type": "stream",
          "name": "stdout",
          "text": [
            "[[ 1  4  9]\n",
            " [16 25 36]]\n",
            "[[ 1  4  9]\n",
            " [16 25 36]]\n"
          ]
        }
      ]
    },
    {
      "cell_type": "code",
      "source": [
        "# np.random.rand(3,3)"
      ],
      "metadata": {
        "colab": {
          "base_uri": "https://localhost:8080/"
        },
        "id": "nnrsJIvy4ii9",
        "outputId": "7a6a8179-9cce-4730-9412-1db2c74415a9"
      },
      "execution_count": null,
      "outputs": [
        {
          "output_type": "execute_result",
          "data": {
            "text/plain": [
              "array([[0.58340416, 0.36154522, 0.08008394],\n",
              "       [0.99149938, 0.18092345, 0.25359485],\n",
              "       [0.06613093, 0.11380878, 0.88067948]])"
            ]
          },
          "metadata": {},
          "execution_count": 204
        }
      ]
    },
    {
      "cell_type": "code",
      "source": [
        "# rastgele sayi uretme\n",
        "rastgele_dizi = np.random.random((3,3)) # normal dagilima gore 0-1\n",
        "rastgele_dizi"
      ],
      "metadata": {
        "colab": {
          "base_uri": "https://localhost:8080/"
        },
        "id": "eM31FfF23Oif",
        "outputId": "bdf438d2-da40-498a-c8dc-456e8f384bfb"
      },
      "execution_count": null,
      "outputs": [
        {
          "output_type": "execute_result",
          "data": {
            "text/plain": [
              "array([[0.23809254, 0.58125061, 0.02652949],\n",
              "       [0.56337976, 0.67939152, 0.79925741],\n",
              "       [0.7477823 , 0.36735526, 0.94165395]])"
            ]
          },
          "metadata": {},
          "execution_count": 200
        }
      ]
    },
    {
      "cell_type": "code",
      "source": [
        "rastgele_dizi = np.random.normal(0 ,1 , (5,3)) # normal dagilima 0 ortalamali 1 std, 5 adet deger uret\n",
        "rastgele_dizi"
      ],
      "metadata": {
        "colab": {
          "base_uri": "https://localhost:8080/"
        },
        "id": "qTD0GaJc3eko",
        "outputId": "453bfdb6-e489-4486-96aa-cf676054f6a7"
      },
      "execution_count": null,
      "outputs": [
        {
          "output_type": "execute_result",
          "data": {
            "text/plain": [
              "array([[ 0.88000137, -0.24306213, -1.76753099],\n",
              "       [ 1.28405075, -0.16232154, -0.65840633],\n",
              "       [ 0.36765998,  0.04215824, -0.5232443 ],\n",
              "       [ 0.77148143, -0.03513502,  1.62264967],\n",
              "       [ 1.50764868,  0.32115817,  0.930468  ]])"
            ]
          },
          "metadata": {},
          "execution_count": 207
        }
      ]
    },
    {
      "cell_type": "markdown",
      "source": [
        "**indeksleme ve slicing**"
      ],
      "metadata": {
        "id": "z_YR_dXo5gXz"
      }
    },
    {
      "cell_type": "code",
      "source": [
        "import numpy as np"
      ],
      "metadata": {
        "id": "Bn0naX2w5i80"
      },
      "execution_count": null,
      "outputs": []
    },
    {
      "cell_type": "code",
      "source": [
        "dizi= np.array([1,2,3,4,5,6,7])\n",
        "dizi[3]"
      ],
      "metadata": {
        "colab": {
          "base_uri": "https://localhost:8080/"
        },
        "id": "Ct8bAYC95ouy",
        "outputId": "d2cf2996-b8c4-4d8b-91f6-5e43c08cb6b9"
      },
      "execution_count": null,
      "outputs": [
        {
          "output_type": "execute_result",
          "data": {
            "text/plain": [
              "4"
            ]
          },
          "metadata": {},
          "execution_count": 210
        }
      ]
    },
    {
      "cell_type": "code",
      "source": [
        "dizi[0:4]"
      ],
      "metadata": {
        "colab": {
          "base_uri": "https://localhost:8080/"
        },
        "id": "rOSwlqks5wRF",
        "outputId": "717f93e3-6f94-478f-f976-569fe1c67bab"
      },
      "execution_count": null,
      "outputs": [
        {
          "output_type": "execute_result",
          "data": {
            "text/plain": [
              "array([1, 2, 3, 4])"
            ]
          },
          "metadata": {},
          "execution_count": 212
        }
      ]
    },
    {
      "cell_type": "code",
      "source": [
        "dizi[:4]"
      ],
      "metadata": {
        "colab": {
          "base_uri": "https://localhost:8080/"
        },
        "id": "-jONps6L55Vw",
        "outputId": "f3a620d8-689c-4c45-8a40-a2eb4b5c981f"
      },
      "execution_count": null,
      "outputs": [
        {
          "output_type": "execute_result",
          "data": {
            "text/plain": [
              "array([1, 2, 3, 4])"
            ]
          },
          "metadata": {},
          "execution_count": 213
        }
      ]
    },
    {
      "cell_type": "code",
      "source": [
        "dizi[::-1]"
      ],
      "metadata": {
        "colab": {
          "base_uri": "https://localhost:8080/"
        },
        "id": "K7BzrbCK6A_I",
        "outputId": "7d7b4bb3-6ba8-481f-b9e8-e84125da1ce8"
      },
      "execution_count": null,
      "outputs": [
        {
          "output_type": "execute_result",
          "data": {
            "text/plain": [
              "array([7, 6, 5, 4, 3, 2, 1])"
            ]
          },
          "metadata": {},
          "execution_count": 214
        }
      ]
    },
    {
      "cell_type": "code",
      "source": [
        "dizi2D = np.array([[1,2,3,4,5],[6,7,8,9,10]])\n",
        "dizi2D"
      ],
      "metadata": {
        "colab": {
          "base_uri": "https://localhost:8080/"
        },
        "id": "pp-XBMUG6EJe",
        "outputId": "105f3970-3d49-454e-fb89-85e0a827bbde"
      },
      "execution_count": null,
      "outputs": [
        {
          "output_type": "execute_result",
          "data": {
            "text/plain": [
              "array([[ 1,  2,  3,  4,  5],\n",
              "       [ 6,  7,  8,  9, 10]])"
            ]
          },
          "metadata": {},
          "execution_count": 215
        }
      ]
    },
    {
      "cell_type": "code",
      "source": [
        "dizi2D[1,2]"
      ],
      "metadata": {
        "colab": {
          "base_uri": "https://localhost:8080/"
        },
        "id": "iCRVhiZ_6Rsr",
        "outputId": "38051977-b470-4723-c10a-c07d0606a7ea"
      },
      "execution_count": null,
      "outputs": [
        {
          "output_type": "execute_result",
          "data": {
            "text/plain": [
              "8"
            ]
          },
          "metadata": {},
          "execution_count": 217
        }
      ]
    },
    {
      "cell_type": "code",
      "source": [
        "dizi2D[1, :] # : = hepsi sutun kismina yazdigim icin tum sutunlar demek"
      ],
      "metadata": {
        "colab": {
          "base_uri": "https://localhost:8080/"
        },
        "id": "XDGuFaLk6djU",
        "outputId": "ef2a0a21-d938-4c27-bbe8-941d500f2d11"
      },
      "execution_count": null,
      "outputs": [
        {
          "output_type": "execute_result",
          "data": {
            "text/plain": [
              "array([ 6,  7,  8,  9, 10])"
            ]
          },
          "metadata": {},
          "execution_count": 221
        }
      ]
    },
    {
      "cell_type": "code",
      "source": [
        "dizi2D[:, 2] #  : = hepsi satir kismina yazdigim icin tum satirlar demek"
      ],
      "metadata": {
        "colab": {
          "base_uri": "https://localhost:8080/"
        },
        "id": "QwlyMIm86yGM",
        "outputId": "69671ec2-2c2e-417f-e490-49700d345c87"
      },
      "execution_count": null,
      "outputs": [
        {
          "output_type": "execute_result",
          "data": {
            "text/plain": [
              "array([3, 8])"
            ]
          },
          "metadata": {},
          "execution_count": 222
        }
      ]
    },
    {
      "cell_type": "code",
      "source": [
        "dizi2D[ 0, 0:2] # 1,  2"
      ],
      "metadata": {
        "colab": {
          "base_uri": "https://localhost:8080/"
        },
        "id": "04r0d66j8Oym",
        "outputId": "bf950bb8-b701-400d-e547-84daad285cc2"
      },
      "execution_count": null,
      "outputs": [
        {
          "output_type": "execute_result",
          "data": {
            "text/plain": [
              "array([1, 2])"
            ]
          },
          "metadata": {},
          "execution_count": 229
        }
      ]
    },
    {
      "cell_type": "code",
      "source": [
        "dizi2D[:, 2:4]\n",
        "\"\"\"\n",
        "[ 1,  2,  3,  4,  5],\n",
        "[ 6,  7,  8,  9, 10]\n",
        "\"\"\"\n"
      ],
      "metadata": {
        "colab": {
          "base_uri": "https://localhost:8080/"
        },
        "id": "TEAeUlvG7Ef8",
        "outputId": "904f6e47-47eb-47fa-cf92-0a33b1cda8d2"
      },
      "execution_count": null,
      "outputs": [
        {
          "output_type": "execute_result",
          "data": {
            "text/plain": [
              "array([[3, 4],\n",
              "       [8, 9]])"
            ]
          },
          "metadata": {},
          "execution_count": 223
        }
      ]
    },
    {
      "cell_type": "code",
      "source": [
        "dizi2D[-1, :]"
      ],
      "metadata": {
        "colab": {
          "base_uri": "https://localhost:8080/"
        },
        "id": "xHmnVfE37Pez",
        "outputId": "47b56b86-d39a-4e5c-bd21-1e71942dbe64"
      },
      "execution_count": null,
      "outputs": [
        {
          "output_type": "execute_result",
          "data": {
            "text/plain": [
              "array([ 6,  7,  8,  9, 10])"
            ]
          },
          "metadata": {},
          "execution_count": 225
        }
      ]
    },
    {
      "cell_type": "code",
      "source": [
        "dizi2D[[0,1], [1,3]]"
      ],
      "metadata": {
        "colab": {
          "base_uri": "https://localhost:8080/"
        },
        "id": "9mb7t3-N7XFX",
        "outputId": "a5e39406-7354-4611-ed30-4d3b6c07d045"
      },
      "execution_count": null,
      "outputs": [
        {
          "output_type": "execute_result",
          "data": {
            "text/plain": [
              "array([2, 9])"
            ]
          },
          "metadata": {},
          "execution_count": 226
        }
      ]
    },
    {
      "cell_type": "markdown",
      "source": [
        "**shape manipulation**"
      ],
      "metadata": {
        "id": "4vhVCH5d8zdZ"
      }
    },
    {
      "cell_type": "code",
      "source": [
        "import numpy as np"
      ],
      "metadata": {
        "id": "vlMeqFVl82dA"
      },
      "execution_count": null,
      "outputs": []
    },
    {
      "cell_type": "code",
      "source": [
        "dizi2D = np.array([[1,2,3],[4,5,6],[7,8,9]])\n",
        "dizi2D"
      ],
      "metadata": {
        "colab": {
          "base_uri": "https://localhost:8080/"
        },
        "id": "LND_VNxV9AlW",
        "outputId": "f703da9c-8336-4f38-9c06-25bcb54dce3f"
      },
      "execution_count": null,
      "outputs": [
        {
          "output_type": "execute_result",
          "data": {
            "text/plain": [
              "array([[1, 2, 3],\n",
              "       [4, 5, 6],\n",
              "       [7, 8, 9]])"
            ]
          },
          "metadata": {},
          "execution_count": 231
        }
      ]
    },
    {
      "cell_type": "code",
      "source": [
        "dizi2D_shape = dizi2D.shape\n",
        "dizi2D_shape"
      ],
      "metadata": {
        "colab": {
          "base_uri": "https://localhost:8080/"
        },
        "id": "omLINIqd9HJq",
        "outputId": "b23cb540-f8ac-4421-9eae-b9a24f0880c0"
      },
      "execution_count": null,
      "outputs": [
        {
          "output_type": "execute_result",
          "data": {
            "text/plain": [
              "(3, 3)"
            ]
          },
          "metadata": {},
          "execution_count": 235
        }
      ]
    },
    {
      "cell_type": "code",
      "source": [
        "dizi2D.reshape(dizi2D_shape[0]*dizi2D_shape[1],1)"
      ],
      "metadata": {
        "colab": {
          "base_uri": "https://localhost:8080/"
        },
        "id": "fp9K4FFf9N3N",
        "outputId": "f7c6a79b-910e-44bb-ad92-650b12fff644"
      },
      "execution_count": null,
      "outputs": [
        {
          "output_type": "execute_result",
          "data": {
            "text/plain": [
              "array([[1],\n",
              "       [2],\n",
              "       [3],\n",
              "       [4],\n",
              "       [5],\n",
              "       [6],\n",
              "       [7],\n",
              "       [8],\n",
              "       [9]])"
            ]
          },
          "metadata": {},
          "execution_count": 236
        }
      ]
    },
    {
      "cell_type": "code",
      "source": [
        "dizi2D.reshape(dizi2D_shape[0]*dizi2D_shape[1],-1)"
      ],
      "metadata": {
        "colab": {
          "base_uri": "https://localhost:8080/"
        },
        "id": "0D12HNOb9QXy",
        "outputId": "bf9a451c-6d27-4318-fb5e-47f23884b5f0"
      },
      "execution_count": null,
      "outputs": [
        {
          "output_type": "execute_result",
          "data": {
            "text/plain": [
              "array([[1],\n",
              "       [2],\n",
              "       [3],\n",
              "       [4],\n",
              "       [5],\n",
              "       [6],\n",
              "       [7],\n",
              "       [8],\n",
              "       [9]])"
            ]
          },
          "metadata": {},
          "execution_count": 237
        }
      ]
    },
    {
      "cell_type": "code",
      "source": [
        "dizi2D.ravel() # tensorflow -> flatten"
      ],
      "metadata": {
        "colab": {
          "base_uri": "https://localhost:8080/"
        },
        "id": "ewaVqUIC9wRy",
        "outputId": "0ffcac4b-15ea-4d3b-db46-2ec4b8760587"
      },
      "execution_count": null,
      "outputs": [
        {
          "output_type": "execute_result",
          "data": {
            "text/plain": [
              "array([1, 2, 3, 4, 5, 6, 7, 8, 9])"
            ]
          },
          "metadata": {},
          "execution_count": 238
        }
      ]
    },
    {
      "cell_type": "code",
      "source": [
        "dizi2D.T"
      ],
      "metadata": {
        "colab": {
          "base_uri": "https://localhost:8080/"
        },
        "id": "9YVqyr-r92-0",
        "outputId": "151bfb64-f05b-480c-8fd5-c3a26f10afc6"
      },
      "execution_count": null,
      "outputs": [
        {
          "output_type": "execute_result",
          "data": {
            "text/plain": [
              "array([[1, 4, 7],\n",
              "       [2, 5, 8],\n",
              "       [3, 6, 9]])"
            ]
          },
          "metadata": {},
          "execution_count": 239
        }
      ]
    },
    {
      "cell_type": "code",
      "source": [
        "dizi2D=np.array([[1,2,3],[4,5,6],[7,8,9]])\n",
        "dizi2D.shape"
      ],
      "metadata": {
        "colab": {
          "base_uri": "https://localhost:8080/"
        },
        "id": "f0ixFGay-Z_y",
        "outputId": "1aec97cd-c182-4b7d-8633-c606d0903373"
      },
      "execution_count": null,
      "outputs": [
        {
          "output_type": "execute_result",
          "data": {
            "text/plain": [
              "(3, 3)"
            ]
          },
          "metadata": {},
          "execution_count": 242
        }
      ]
    },
    {
      "cell_type": "code",
      "source": [
        "dizi2D_shape=dizi2D.shape\n",
        "dizi2D_shape"
      ],
      "metadata": {
        "colab": {
          "base_uri": "https://localhost:8080/"
        },
        "id": "HYOnCOF--e6D",
        "outputId": "ba807492-de37-4f8b-e95d-082e9f5d93e5"
      },
      "execution_count": null,
      "outputs": [
        {
          "output_type": "execute_result",
          "data": {
            "text/plain": [
              "(3, 3)"
            ]
          },
          "metadata": {},
          "execution_count": 244
        }
      ]
    },
    {
      "cell_type": "code",
      "source": [
        "print(dizi2D.reshape(dizi2D_shape[0]*dizi2D_shape[1],-1))"
      ],
      "metadata": {
        "colab": {
          "base_uri": "https://localhost:8080/"
        },
        "id": "JHDc-9Rh99Lb",
        "outputId": "70da90d6-9270-4831-bf35-3c9e039f23ce"
      },
      "execution_count": null,
      "outputs": [
        {
          "output_type": "stream",
          "name": "stdout",
          "text": [
            "[[1]\n",
            " [2]\n",
            " [3]\n",
            " [4]\n",
            " [5]\n",
            " [6]\n",
            " [7]\n",
            " [8]\n",
            " [9]]\n"
          ]
        }
      ]
    },
    {
      "cell_type": "code",
      "source": [
        "\"\"\"\"\n",
        "[[1,2]\n",
        "[3,4]]\n",
        "\n",
        "reshape(4,-1)\n",
        "\n",
        "[1,2,3,4]\n",
        "\"\"\""
      ],
      "metadata": {
        "id": "M41XKgig-W6C"
      },
      "execution_count": null,
      "outputs": []
    },
    {
      "cell_type": "code",
      "source": [
        "\"\"\"\n",
        "1) A array = 2 boyutlu bir tane array -> (3,5)\n",
        "2) B array = 1 boyutlu bir tane array -> (15,)\n",
        "3) B array'ini (3,5) olacak sekilde reshape yapalim\n",
        "4) C = A + B\n",
        "5) D=linspace ve E=arange ile (3,5) lik matrisler olusturalim.\n",
        "6) F = D + E\n",
        "7) C'nin ve F'nin her bir elemanini for dongusu ile eleman eleman carpip G = (15,1) boyutunda elde edelim.\n",
        "8) C ve F'yi (15,1) sonrasında C'nin ilk elemani ile F'nin son elemani toplayarak ilerleyelim.\n",
        "9) toplam degerleri eger 1 den buyukse G1 isimli bir listeye atalim, else ise G2 isimli listeye atalim\n",
        "\"\"\"\n",
        "import numpy as np\n",
        "# 2 boyutlu bir dizi oluşturma (3x5)\n",
        "A = np.random.rand(3, 5)  # 0 ile 1 arasında rastgele sayılarla dolu 3x5'lik bir dizi\n",
        "# 1 boyutlu bir dizi oluşturma (15 elemanlı)\n",
        "B = np.arange(15)  # 0'dan 14'e kadar sayıları içeren bir dizi\n",
        "# B dizisini 3x5 boyutunda yeniden şekillendirme\n",
        "B = B.reshape(3, 5)\n",
        "# A ve B dizilerini toplama\n",
        "C = A + B\n",
        "print(\"C: \",C)\n",
        "D=np.linspace(10,50,15).reshape(3,5)\n",
        "print(\"D: \",D)\n",
        "E=np.arange(10,160,10).reshape(3,5)\n",
        "print(\"E: \",E)\n",
        "F=D+E\n",
        "print(\"F: \",F)\n",
        "G = []\n",
        "for i in range(C.shape[0]):  # 3\n",
        "    for j in range(C.shape[1]):  # 5\n",
        "        G.append(C[i, j] * F[i, j])\n",
        "print(\"G shape: \",np.array(G).shape)"
      ],
      "metadata": {
        "colab": {
          "base_uri": "https://localhost:8080/"
        },
        "id": "TcS-TAPNHu5D",
        "outputId": "3dc5869e-4827-4c15-c5ab-a38e1d7438b0"
      },
      "execution_count": null,
      "outputs": [
        {
          "output_type": "stream",
          "name": "stdout",
          "text": [
            "C:  [[ 0.32742418  1.39065597  2.83093282  3.62819265  4.7901782 ]\n",
            " [ 5.46543483  6.64074862  7.93781858  8.61639906  9.56028326]\n",
            " [10.43240607 11.86031746 12.67615277 13.28471227 14.3735089 ]]\n",
            "D:  [[10.         12.85714286 15.71428571 18.57142857 21.42857143]\n",
            " [24.28571429 27.14285714 30.         32.85714286 35.71428571]\n",
            " [38.57142857 41.42857143 44.28571429 47.14285714 50.        ]]\n",
            "E:  [[ 10  20  30  40  50]\n",
            " [ 60  70  80  90 100]\n",
            " [110 120 130 140 150]]\n",
            "F:  [[ 20.          32.85714286  45.71428571  58.57142857  71.42857143]\n",
            " [ 84.28571429  97.14285714 110.         122.85714286 135.71428571]\n",
            " [148.57142857 161.42857143 174.28571429 187.14285714 200.        ]]\n",
            "G shape:  (15,)\n"
          ]
        }
      ]
    },
    {
      "cell_type": "code",
      "source": [
        "\"\"\"\n",
        "[1,2,3]\n",
        "\n",
        "[4,5,6]\n",
        "7,7,7\n",
        "\"\"\"\n",
        "C = C.reshape(15,1)\n",
        "F = F.reshape(15,1)\n",
        "F =F[::-1]\n",
        "G1 = []\n",
        "G2 = []\n",
        "for i in range(len(C)):\n",
        "    toplam = C[i] + F[i]\n",
        "    if toplam > 1:\n",
        "        G1.append(toplam)\n",
        "    else:\n",
        "        G2.append(toplam)\n",
        "print(G1,G2)"
      ],
      "metadata": {
        "colab": {
          "base_uri": "https://localhost:8080/"
        },
        "id": "BU7jFppUJy76",
        "outputId": "914e9b4a-1de1-459b-c84a-62f3dd4f9829"
      },
      "execution_count": null,
      "outputs": [
        {
          "output_type": "stream",
          "name": "stdout",
          "text": [
            "[array([20.32742418]), array([34.24779882]), array([48.54521854]), array([62.19962122]), array([76.21874962]), array([89.75114912]), array([103.78360576]), array([117.93781858]), array([131.47354192]), array([145.27456898]), array([159.00383464]), array([173.28888889]), array([186.96186706]), array([200.42756941]), array([214.3735089])] []\n"
          ]
        }
      ]
    },
    {
      "cell_type": "code",
      "source": [
        "C_flat = C.reshape(-1, 1)  # -1 otomatik olarak 15 elemanı kullanır\n",
        "F_flat = F.reshape(-1, 1)\n",
        "\n",
        "# G1 ve G2 listelerini tanımlama\n",
        "G1 = []\n",
        "G2 = []\n",
        "\n",
        "# C'nin ilk elemanı ve F'nin son elemanı toplama işlemi ile ilerleme\n",
        "for i in range(len(C_flat)):  # C_flat'in uzunluğunu kullanarak döngüyü oluştur\n",
        "    toplam = C_flat[i, 0] + F_flat[len(F_flat) - 1 - i, 0]  # len kullanarak sondan eleman al\n",
        "    if toplam > 1:\n",
        "        G1.append(toplam)\n",
        "    else:\n",
        "        G2.append(toplam)\n",
        "# Sonuçları yazdırma\n",
        "print(\"G1 (Toplam > 1 olanlar):\", G1)\n",
        "print(\"G2 (Toplam <= 1 olanlar):\", G2)"
      ],
      "metadata": {
        "colab": {
          "base_uri": "https://localhost:8080/"
        },
        "id": "iGqGYzNpM9Dv",
        "outputId": "3c80d337-e6da-4cd9-9530-e018fd996c3e"
      },
      "execution_count": null,
      "outputs": [
        {
          "output_type": "stream",
          "name": "stdout",
          "text": [
            "G1 (Toplam > 1 olanlar): [200.3274241810467, 188.53351310915698, 177.11664710813443, 165.05676407668426, 153.36160676686742, 141.17972054778826, 129.4978914723449, 117.93781858145316, 105.75925620685932, 93.84599755056932, 81.86097749537447, 70.43174603218262, 58.39043848529876, 46.14185512387553, 34.37350889945884]\n",
            "G2 (Toplam <= 1 olanlar): []\n"
          ]
        }
      ]
    },
    {
      "cell_type": "markdown",
      "source": [
        " **Stacking**"
      ],
      "metadata": {
        "id": "pcW_f-pbYULw"
      }
    },
    {
      "cell_type": "code",
      "source": [
        "import numpy as np"
      ],
      "metadata": {
        "id": "vgqeza4sYamZ"
      },
      "execution_count": null,
      "outputs": []
    },
    {
      "cell_type": "code",
      "source": [
        "dizi1 = np.array([[1,2], [3,4]])\n",
        "dizi1"
      ],
      "metadata": {
        "colab": {
          "base_uri": "https://localhost:8080/"
        },
        "id": "dY-Y_bXVYi2J",
        "outputId": "d37a8fa5-f0d0-43cd-ff55-1d3532f157f9"
      },
      "execution_count": null,
      "outputs": [
        {
          "output_type": "execute_result",
          "data": {
            "text/plain": [
              "array([[1, 2],\n",
              "       [3, 4]])"
            ]
          },
          "metadata": {},
          "execution_count": 4
        }
      ]
    },
    {
      "cell_type": "code",
      "source": [
        "dizi2 = np.array([[-1,-2], [-3,-4]])\n",
        "dizi2"
      ],
      "metadata": {
        "colab": {
          "base_uri": "https://localhost:8080/"
        },
        "id": "xuu1XFtAYoPM",
        "outputId": "70bbcc22-eeaf-4c56-ab0d-5e481a8afa4f"
      },
      "execution_count": null,
      "outputs": [
        {
          "output_type": "execute_result",
          "data": {
            "text/plain": [
              "array([[-1, -2],\n",
              "       [-3, -4]])"
            ]
          },
          "metadata": {},
          "execution_count": 5
        }
      ]
    },
    {
      "cell_type": "code",
      "source": [
        "dizi_dikey = np.vstack((dizi1, dizi2))\n",
        "dizi_dikey"
      ],
      "metadata": {
        "colab": {
          "base_uri": "https://localhost:8080/"
        },
        "id": "nA1oYmc6Yutu",
        "outputId": "f88f3de5-db41-4255-fe4a-c5ddba347b29"
      },
      "execution_count": null,
      "outputs": [
        {
          "output_type": "execute_result",
          "data": {
            "text/plain": [
              "array([[ 1,  2],\n",
              "       [ 3,  4],\n",
              "       [-1, -2],\n",
              "       [-3, -4]])"
            ]
          },
          "metadata": {},
          "execution_count": 6
        }
      ]
    },
    {
      "cell_type": "code",
      "source": [
        "dizi_yatay = np.hstack((dizi1, dizi2))\n",
        "dizi_yatay"
      ],
      "metadata": {
        "colab": {
          "base_uri": "https://localhost:8080/"
        },
        "id": "aN15_2mMY4b4",
        "outputId": "371a7e68-9a44-4618-9d43-cb77cde4f9ce"
      },
      "execution_count": null,
      "outputs": [
        {
          "output_type": "execute_result",
          "data": {
            "text/plain": [
              "array([[ 1,  2, -1, -2],\n",
              "       [ 3,  4, -3, -4]])"
            ]
          },
          "metadata": {},
          "execution_count": 7
        }
      ]
    },
    {
      "cell_type": "code",
      "source": [
        "# problem tanimi: 2 boyutlu (2 satir ve 2 sutun) 3 adet array olustur,\n",
        "# bunlari yatayda ve dikeyde birlestir\n",
        "np.hstack((dizi1, dizi1, dizi1))"
      ],
      "metadata": {
        "colab": {
          "base_uri": "https://localhost:8080/"
        },
        "id": "VmBkP5D9ZC8H",
        "outputId": "c6ac5db1-2ae7-4bb3-c895-0939936ffa85"
      },
      "execution_count": null,
      "outputs": [
        {
          "output_type": "execute_result",
          "data": {
            "text/plain": [
              "array([[1, 2, 1, 2, 1, 2],\n",
              "       [3, 4, 3, 4, 3, 4]])"
            ]
          },
          "metadata": {},
          "execution_count": 8
        }
      ]
    },
    {
      "cell_type": "code",
      "source": [
        "np.vstack((dizi1, dizi1, dizi1))"
      ],
      "metadata": {
        "colab": {
          "base_uri": "https://localhost:8080/"
        },
        "id": "8wALjsZfZu4M",
        "outputId": "10f43795-4cf9-47b6-f7eb-9d89a9eb5b45"
      },
      "execution_count": null,
      "outputs": [
        {
          "output_type": "execute_result",
          "data": {
            "text/plain": [
              "array([[1, 2],\n",
              "       [3, 4],\n",
              "       [1, 2],\n",
              "       [3, 4],\n",
              "       [1, 2],\n",
              "       [3, 4]])"
            ]
          },
          "metadata": {},
          "execution_count": 9
        }
      ]
    }
  ]
}